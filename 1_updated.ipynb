{
 "cells": [
  {
   "cell_type": "markdown",
   "id": "1408db63",
   "metadata": {},
   "source": [
    "### 📥 Importing Required Libraries"
   ]
  },
  {
   "cell_type": "code",
   "execution_count": 27,
   "id": "71b18ac3",
   "metadata": {},
   "outputs": [],
   "source": [
    "import pandas as pd \n",
    "import numpy as np \n",
    "import seaborn as sn \n",
    "import matplotlib.pyplot as plt "
   ]
  },
  {
   "cell_type": "markdown",
   "id": "450c4292",
   "metadata": {},
   "source": [
    "### 📂 Loading the Dataset"
   ]
  },
  {
   "cell_type": "code",
   "execution_count": 28,
   "id": "33b9d482",
   "metadata": {},
   "outputs": [
    {
     "data": {
      "text/html": [
       "<div>\n",
       "<style scoped>\n",
       "    .dataframe tbody tr th:only-of-type {\n",
       "        vertical-align: middle;\n",
       "    }\n",
       "\n",
       "    .dataframe tbody tr th {\n",
       "        vertical-align: top;\n",
       "    }\n",
       "\n",
       "    .dataframe thead th {\n",
       "        text-align: right;\n",
       "    }\n",
       "</style>\n",
       "<table border=\"1\" class=\"dataframe\">\n",
       "  <thead>\n",
       "    <tr style=\"text-align: right;\">\n",
       "      <th></th>\n",
       "      <th>Product</th>\n",
       "      <th>Age</th>\n",
       "      <th>Gender</th>\n",
       "      <th>Education</th>\n",
       "      <th>MaritalStatus</th>\n",
       "      <th>Usage</th>\n",
       "      <th>Fitness</th>\n",
       "      <th>Income</th>\n",
       "      <th>Miles</th>\n",
       "    </tr>\n",
       "  </thead>\n",
       "  <tbody>\n",
       "    <tr>\n",
       "      <th>0</th>\n",
       "      <td>KP281</td>\n",
       "      <td>18</td>\n",
       "      <td>Male</td>\n",
       "      <td>14</td>\n",
       "      <td>Single</td>\n",
       "      <td>3</td>\n",
       "      <td>4</td>\n",
       "      <td>29562</td>\n",
       "      <td>112</td>\n",
       "    </tr>\n",
       "    <tr>\n",
       "      <th>1</th>\n",
       "      <td>KP281</td>\n",
       "      <td>19</td>\n",
       "      <td>Male</td>\n",
       "      <td>15</td>\n",
       "      <td>Single</td>\n",
       "      <td>2</td>\n",
       "      <td>3</td>\n",
       "      <td>31836</td>\n",
       "      <td>75</td>\n",
       "    </tr>\n",
       "    <tr>\n",
       "      <th>2</th>\n",
       "      <td>KP281</td>\n",
       "      <td>19</td>\n",
       "      <td>Female</td>\n",
       "      <td>14</td>\n",
       "      <td>Partnered</td>\n",
       "      <td>4</td>\n",
       "      <td>3</td>\n",
       "      <td>30699</td>\n",
       "      <td>66</td>\n",
       "    </tr>\n",
       "    <tr>\n",
       "      <th>3</th>\n",
       "      <td>KP281</td>\n",
       "      <td>19</td>\n",
       "      <td>Male</td>\n",
       "      <td>12</td>\n",
       "      <td>Single</td>\n",
       "      <td>3</td>\n",
       "      <td>3</td>\n",
       "      <td>32973</td>\n",
       "      <td>85</td>\n",
       "    </tr>\n",
       "    <tr>\n",
       "      <th>4</th>\n",
       "      <td>KP281</td>\n",
       "      <td>20</td>\n",
       "      <td>Male</td>\n",
       "      <td>13</td>\n",
       "      <td>Partnered</td>\n",
       "      <td>4</td>\n",
       "      <td>2</td>\n",
       "      <td>35247</td>\n",
       "      <td>47</td>\n",
       "    </tr>\n",
       "  </tbody>\n",
       "</table>\n",
       "</div>"
      ],
      "text/plain": [
       "  Product  Age  Gender  Education MaritalStatus  Usage  Fitness  Income  Miles\n",
       "0   KP281   18    Male         14        Single      3        4   29562    112\n",
       "1   KP281   19    Male         15        Single      2        3   31836     75\n",
       "2   KP281   19  Female         14     Partnered      4        3   30699     66\n",
       "3   KP281   19    Male         12        Single      3        3   32973     85\n",
       "4   KP281   20    Male         13     Partnered      4        2   35247     47"
      ]
     },
     "execution_count": 28,
     "metadata": {},
     "output_type": "execute_result"
    }
   ],
   "source": [
    "df = pd.read_csv('aerofit_treadmill.csv')\n",
    "df.head()"
   ]
  },
  {
   "cell_type": "markdown",
   "id": "2c2eb4a9",
   "metadata": {},
   "source": [
    "### ❓ Checking for Missing Values"
   ]
  },
  {
   "cell_type": "code",
   "execution_count": 29,
   "id": "d127cffa",
   "metadata": {},
   "outputs": [
    {
     "data": {
      "text/plain": [
       "Product          False\n",
       "Age              False\n",
       "Gender           False\n",
       "Education        False\n",
       "MaritalStatus    False\n",
       "Usage            False\n",
       "Fitness          False\n",
       "Income           False\n",
       "Miles            False\n",
       "dtype: bool"
      ]
     },
     "execution_count": 29,
     "metadata": {},
     "output_type": "execute_result"
    }
   ],
   "source": [
    "df.sum().isnull()"
   ]
  },
  {
   "cell_type": "markdown",
   "id": "9801861a",
   "metadata": {},
   "source": [
    "### 🔁 Checking for Duplicate Records"
   ]
  },
  {
   "cell_type": "code",
   "execution_count": 30,
   "id": "19abba31",
   "metadata": {},
   "outputs": [
    {
     "data": {
      "text/plain": [
       "np.int64(0)"
      ]
     },
     "execution_count": 30,
     "metadata": {},
     "output_type": "execute_result"
    }
   ],
   "source": [
    "df.duplicated().sum()"
   ]
  },
  {
   "cell_type": "markdown",
   "id": "c82eb57f",
   "metadata": {},
   "source": [
    "### 🧾 Dataset Information Summary"
   ]
  },
  {
   "cell_type": "code",
   "execution_count": 31,
   "id": "60206e8d",
   "metadata": {},
   "outputs": [
    {
     "name": "stdout",
     "output_type": "stream",
     "text": [
      "<class 'pandas.core.frame.DataFrame'>\n",
      "RangeIndex: 180 entries, 0 to 179\n",
      "Data columns (total 9 columns):\n",
      " #   Column         Non-Null Count  Dtype \n",
      "---  ------         --------------  ----- \n",
      " 0   Product        180 non-null    object\n",
      " 1   Age            180 non-null    int64 \n",
      " 2   Gender         180 non-null    object\n",
      " 3   Education      180 non-null    int64 \n",
      " 4   MaritalStatus  180 non-null    object\n",
      " 5   Usage          180 non-null    int64 \n",
      " 6   Fitness        180 non-null    int64 \n",
      " 7   Income         180 non-null    int64 \n",
      " 8   Miles          180 non-null    int64 \n",
      "dtypes: int64(6), object(3)\n",
      "memory usage: 12.8+ KB\n"
     ]
    }
   ],
   "source": [
    "df.info()"
   ]
  },
  {
   "cell_type": "markdown",
   "id": "fb3574a1",
   "metadata": {},
   "source": [
    "### 📥  Checking ALL Columns Values"
   ]
  },
  {
   "cell_type": "code",
   "execution_count": 32,
   "id": "50955735",
   "metadata": {},
   "outputs": [
    {
     "name": "stdout",
     "output_type": "stream",
     "text": [
      "Column: Product\n",
      "['KP281' 'KP481' 'KP781']\n",
      "Column: Age\n",
      "[18 19 20 21 22 23 24 25 26 27 28 29 30 31 32 33 34 35 36 37 38 39 40 41\n",
      " 43 44 46 47 50 45 48 42]\n",
      "Column: Gender\n",
      "['Male' 'Female']\n",
      "Column: Education\n",
      "[14 15 12 13 16 18 20 21]\n",
      "Column: MaritalStatus\n",
      "['Single' 'Partnered']\n",
      "Column: Usage\n",
      "[3 2 4 5 6 7]\n",
      "Column: Fitness\n",
      "[4 3 2 1 5]\n",
      "Column: Income\n",
      "[ 29562  31836  30699  32973  35247  37521  36384  38658  40932  34110\n",
      "  39795  42069  44343  45480  46617  48891  53439  43206  52302  51165\n",
      "  50028  54576  68220  55713  60261  67083  56850  59124  61398  57987\n",
      "  64809  47754  65220  62535  48658  54781  48556  58516  53536  61006\n",
      "  57271  52291  49801  62251  64741  70966  75946  74701  69721  83416\n",
      "  88396  90886  92131  77191  52290  85906 103336  99601  89641  95866\n",
      " 104581  95508]\n",
      "Column: Miles\n",
      "[112  75  66  85  47 141 103  94 113  38 188  56 132 169  64  53 106  95\n",
      " 212  42 127  74 170  21 120 200 140 100  80 160 180 240 150 300 280 260\n",
      " 360]\n"
     ]
    }
   ],
   "source": [
    "\n",
    "for column in df.columns:\n",
    "    print(f\"Column: {column}\")\n",
    "    print(df[column].unique())   "
   ]
  },
  {
   "cell_type": "markdown",
   "id": "53e24997",
   "metadata": {},
   "source": [
    "### 🧪 Executing Analysis Step"
   ]
  },
  {
   "cell_type": "code",
   "execution_count": 33,
   "id": "3086c960",
   "metadata": {},
   "outputs": [
    {
     "name": "stdout",
     "output_type": "stream",
     "text": [
      "Parameter Ranges:\n",
      "Age : 18yrs - 50yrs\n",
      "Education : 12 - 21 yrs\n",
      "Usage : 2 - 7 days per week\n",
      "Fitness : 1 - 5 in a scale\n",
      "Income : 29k - 104k in $\n",
      "Miles : 21 - 360 miles per week\n"
     ]
    }
   ],
   "source": [
    "print('Parameter Ranges:')\n",
    "print(f\"Age : {df.Age.min()}yrs - {df.Age.max()}yrs\")\n",
    "print(f\"Education : {df.Education.min()} - {df.Education.max()} yrs\")\n",
    "print(f\"Usage : {df.Usage.min()} - {df.Usage.max()} days per week\")\n",
    "print(f\"Fitness : {df.Fitness.min()} - {df.Fitness.max()} in a scale\")\n",
    "print(f\"Income : {round(df.Income.min()//1000)}k - {round(df.Income.max()//1000)}k in $\")\n",
    "print(f\"Miles : {df.Miles.min()} - {df.Miles.max()} miles per week\")"
   ]
  },
  {
   "cell_type": "markdown",
   "id": "f5f50a86",
   "metadata": {},
   "source": [
    "### 📊 Descriptive Statistics of the Dataset"
   ]
  },
  {
   "cell_type": "code",
   "execution_count": 34,
   "id": "7ee5b636",
   "metadata": {},
   "outputs": [
    {
     "data": {
      "text/html": [
       "<div>\n",
       "<style scoped>\n",
       "    .dataframe tbody tr th:only-of-type {\n",
       "        vertical-align: middle;\n",
       "    }\n",
       "\n",
       "    .dataframe tbody tr th {\n",
       "        vertical-align: top;\n",
       "    }\n",
       "\n",
       "    .dataframe thead th {\n",
       "        text-align: right;\n",
       "    }\n",
       "</style>\n",
       "<table border=\"1\" class=\"dataframe\">\n",
       "  <thead>\n",
       "    <tr style=\"text-align: right;\">\n",
       "      <th></th>\n",
       "      <th>count</th>\n",
       "      <th>mean</th>\n",
       "      <th>std</th>\n",
       "      <th>min</th>\n",
       "      <th>25%</th>\n",
       "      <th>50%</th>\n",
       "      <th>75%</th>\n",
       "      <th>max</th>\n",
       "    </tr>\n",
       "  </thead>\n",
       "  <tbody>\n",
       "    <tr>\n",
       "      <th>Age</th>\n",
       "      <td>180.0</td>\n",
       "      <td>28.788889</td>\n",
       "      <td>6.943498</td>\n",
       "      <td>18.0</td>\n",
       "      <td>24.00</td>\n",
       "      <td>26.0</td>\n",
       "      <td>33.00</td>\n",
       "      <td>50.0</td>\n",
       "    </tr>\n",
       "    <tr>\n",
       "      <th>Education</th>\n",
       "      <td>180.0</td>\n",
       "      <td>15.572222</td>\n",
       "      <td>1.617055</td>\n",
       "      <td>12.0</td>\n",
       "      <td>14.00</td>\n",
       "      <td>16.0</td>\n",
       "      <td>16.00</td>\n",
       "      <td>21.0</td>\n",
       "    </tr>\n",
       "    <tr>\n",
       "      <th>Usage</th>\n",
       "      <td>180.0</td>\n",
       "      <td>3.455556</td>\n",
       "      <td>1.084797</td>\n",
       "      <td>2.0</td>\n",
       "      <td>3.00</td>\n",
       "      <td>3.0</td>\n",
       "      <td>4.00</td>\n",
       "      <td>7.0</td>\n",
       "    </tr>\n",
       "    <tr>\n",
       "      <th>Fitness</th>\n",
       "      <td>180.0</td>\n",
       "      <td>3.311111</td>\n",
       "      <td>0.958869</td>\n",
       "      <td>1.0</td>\n",
       "      <td>3.00</td>\n",
       "      <td>3.0</td>\n",
       "      <td>4.00</td>\n",
       "      <td>5.0</td>\n",
       "    </tr>\n",
       "    <tr>\n",
       "      <th>Income</th>\n",
       "      <td>180.0</td>\n",
       "      <td>53719.577778</td>\n",
       "      <td>16506.684226</td>\n",
       "      <td>29562.0</td>\n",
       "      <td>44058.75</td>\n",
       "      <td>50596.5</td>\n",
       "      <td>58668.00</td>\n",
       "      <td>104581.0</td>\n",
       "    </tr>\n",
       "    <tr>\n",
       "      <th>Miles</th>\n",
       "      <td>180.0</td>\n",
       "      <td>103.194444</td>\n",
       "      <td>51.863605</td>\n",
       "      <td>21.0</td>\n",
       "      <td>66.00</td>\n",
       "      <td>94.0</td>\n",
       "      <td>114.75</td>\n",
       "      <td>360.0</td>\n",
       "    </tr>\n",
       "  </tbody>\n",
       "</table>\n",
       "</div>"
      ],
      "text/plain": [
       "           count          mean           std      min       25%      50%  \\\n",
       "Age        180.0     28.788889      6.943498     18.0     24.00     26.0   \n",
       "Education  180.0     15.572222      1.617055     12.0     14.00     16.0   \n",
       "Usage      180.0      3.455556      1.084797      2.0      3.00      3.0   \n",
       "Fitness    180.0      3.311111      0.958869      1.0      3.00      3.0   \n",
       "Income     180.0  53719.577778  16506.684226  29562.0  44058.75  50596.5   \n",
       "Miles      180.0    103.194444     51.863605     21.0     66.00     94.0   \n",
       "\n",
       "                75%       max  \n",
       "Age           33.00      50.0  \n",
       "Education     16.00      21.0  \n",
       "Usage          4.00       7.0  \n",
       "Fitness        4.00       5.0  \n",
       "Income     58668.00  104581.0  \n",
       "Miles        114.75     360.0  "
      ]
     },
     "execution_count": 34,
     "metadata": {},
     "output_type": "execute_result"
    }
   ],
   "source": [
    "df.describe().T"
   ]
  },
  {
   "cell_type": "markdown",
   "id": "3c907b6d",
   "metadata": {},
   "source": [
    "### 📌 Count of Unique Values"
   ]
  },
  {
   "cell_type": "code",
   "execution_count": 35,
   "id": "0d72c92c",
   "metadata": {},
   "outputs": [
    {
     "data": {
      "text/plain": [
       "Product\n",
       "KP281    80\n",
       "KP481    60\n",
       "KP781    40\n",
       "Name: count, dtype: int64"
      ]
     },
     "execution_count": 35,
     "metadata": {},
     "output_type": "execute_result"
    }
   ],
   "source": [
    "df.Product.value_counts()"
   ]
  },
  {
   "cell_type": "code",
   "execution_count": 36,
   "id": "ecb815b4",
   "metadata": {},
   "outputs": [
    {
     "data": {
      "text/plain": [
       "Age\n",
       "25    25\n",
       "23    18\n",
       "24    12\n",
       "26    12\n",
       "28     9\n",
       "33     8\n",
       "35     8\n",
       "22     7\n",
       "30     7\n",
       "27     7\n",
       "38     7\n",
       "21     7\n",
       "31     6\n",
       "34     6\n",
       "29     6\n",
       "20     5\n",
       "40     5\n",
       "19     4\n",
       "32     4\n",
       "37     2\n",
       "45     2\n",
       "48     2\n",
       "47     2\n",
       "18     1\n",
       "41     1\n",
       "39     1\n",
       "36     1\n",
       "43     1\n",
       "46     1\n",
       "44     1\n",
       "50     1\n",
       "42     1\n",
       "Name: count, dtype: int64"
      ]
     },
     "execution_count": 36,
     "metadata": {},
     "output_type": "execute_result"
    }
   ],
   "source": [
    "df.Age.value_counts()"
   ]
  },
  {
   "cell_type": "code",
   "execution_count": 37,
   "id": "f343438d",
   "metadata": {},
   "outputs": [
    {
     "data": {
      "text/plain": [
       "Education\n",
       "16    85\n",
       "14    55\n",
       "18    23\n",
       "15     5\n",
       "13     5\n",
       "12     3\n",
       "21     3\n",
       "20     1\n",
       "Name: count, dtype: int64"
      ]
     },
     "execution_count": 37,
     "metadata": {},
     "output_type": "execute_result"
    }
   ],
   "source": [
    "df.Education.value_counts()"
   ]
  },
  {
   "cell_type": "code",
   "execution_count": 38,
   "id": "5d3b1ddf",
   "metadata": {},
   "outputs": [
    {
     "data": {
      "text/plain": [
       "Gender\n",
       "Male      104\n",
       "Female     76\n",
       "Name: count, dtype: int64"
      ]
     },
     "execution_count": 38,
     "metadata": {},
     "output_type": "execute_result"
    }
   ],
   "source": [
    "df.Gender.value_counts()"
   ]
  },
  {
   "cell_type": "code",
   "execution_count": 39,
   "id": "9229def5",
   "metadata": {},
   "outputs": [
    {
     "data": {
      "text/plain": [
       "MaritalStatus\n",
       "Partnered    107\n",
       "Single        73\n",
       "Name: count, dtype: int64"
      ]
     },
     "execution_count": 39,
     "metadata": {},
     "output_type": "execute_result"
    }
   ],
   "source": [
    "df.MaritalStatus.value_counts()"
   ]
  },
  {
   "cell_type": "code",
   "execution_count": 40,
   "id": "939101e0",
   "metadata": {},
   "outputs": [
    {
     "data": {
      "text/plain": [
       "Income\n",
       "45480     14\n",
       "52302      9\n",
       "53439      8\n",
       "54576      8\n",
       "46617      8\n",
       "          ..\n",
       "85906      1\n",
       "99601      1\n",
       "103336     1\n",
       "95866      1\n",
       "95508      1\n",
       "Name: count, Length: 62, dtype: int64"
      ]
     },
     "execution_count": 40,
     "metadata": {},
     "output_type": "execute_result"
    }
   ],
   "source": [
    "df.Income.value_counts()"
   ]
  },
  {
   "cell_type": "code",
   "execution_count": 41,
   "id": "a613452f",
   "metadata": {},
   "outputs": [
    {
     "data": {
      "text/plain": [
       "Fitness\n",
       "3    97\n",
       "5    31\n",
       "2    26\n",
       "4    24\n",
       "1     2\n",
       "Name: count, dtype: int64"
      ]
     },
     "execution_count": 41,
     "metadata": {},
     "output_type": "execute_result"
    }
   ],
   "source": [
    "df.Fitness.value_counts()"
   ]
  },
  {
   "cell_type": "code",
   "execution_count": 42,
   "id": "dac8484f",
   "metadata": {},
   "outputs": [
    {
     "data": {
      "text/plain": [
       "Miles\n",
       "85     27\n",
       "95     12\n",
       "66     10\n",
       "75     10\n",
       "47      9\n",
       "106     9\n",
       "113     8\n",
       "94      8\n",
       "53      7\n",
       "100     7\n",
       "200     6\n",
       "56      6\n",
       "64      6\n",
       "180     6\n",
       "160     5\n",
       "127     5\n",
       "42      4\n",
       "150     4\n",
       "74      3\n",
       "38      3\n",
       "103     3\n",
       "170     3\n",
       "120     3\n",
       "132     2\n",
       "141     2\n",
       "112     1\n",
       "212     1\n",
       "188     1\n",
       "169     1\n",
       "80      1\n",
       "140     1\n",
       "21      1\n",
       "240     1\n",
       "300     1\n",
       "280     1\n",
       "260     1\n",
       "360     1\n",
       "Name: count, dtype: int64"
      ]
     },
     "execution_count": 42,
     "metadata": {},
     "output_type": "execute_result"
    }
   ],
   "source": [
    "df.Miles.value_counts()"
   ]
  },
  {
   "cell_type": "code",
   "execution_count": 43,
   "id": "e2dccdb9",
   "metadata": {},
   "outputs": [
    {
     "data": {
      "text/plain": [
       "Usage\n",
       "3    69\n",
       "4    52\n",
       "2    33\n",
       "5    17\n",
       "6     7\n",
       "7     2\n",
       "Name: count, dtype: int64"
      ]
     },
     "execution_count": 43,
     "metadata": {},
     "output_type": "execute_result"
    }
   ],
   "source": [
    "df.Usage.value_counts()"
   ]
  },
  {
   "cell_type": "markdown",
   "id": "906b08cc",
   "metadata": {},
   "source": [
    "###  Genearting Each Product Revenue "
   ]
  },
  {
   "cell_type": "code",
   "execution_count": 44,
   "id": "1aede775",
   "metadata": {},
   "outputs": [
    {
     "name": "stdout",
     "output_type": "stream",
     "text": [
      "+----+-----------+---------+---------+-----------+\n",
      "|    | Product   |   Sales |   Price |   Revenue |\n",
      "+====+===========+=========+=========+===========+\n",
      "|  0 | KP281     |      80 |    1500 |    120000 |\n",
      "+----+-----------+---------+---------+-----------+\n",
      "|  1 | KP481     |      60 |    1750 |    105000 |\n",
      "+----+-----------+---------+---------+-----------+\n",
      "|  2 | KP781     |      40 |    2500 |    100000 |\n",
      "+----+-----------+---------+---------+-----------+\n"
     ]
    }
   ],
   "source": [
    "from tabulate import tabulate\n",
    "\n",
    "product_prices = {\n",
    "    'KP281': 1500,\n",
    "    'KP481': 1750,\n",
    "    'KP781': 2500\n",
    "}\n",
    " \n",
    "sales_count = df['Product'].value_counts().reset_index()\n",
    "sales_count.columns = ['Product', 'Sales'] \n",
    "sales_count['Price'] = sales_count['Product'].map(product_prices)\n",
    "\n",
    "\n",
    "sales_count['Revenue'] = sales_count['Price'] * sales_count['Sales']\n",
    "\n",
    "print(tabulate(sales_count, headers='keys', tablefmt='grid'))\n"
   ]
  },
  {
   "cell_type": "markdown",
   "id": "8ab46f33",
   "metadata": {},
   "source": [
    "#  📦 Box Plot: Age Distribution by Treadmill Product\n",
    "### This plot helps visualize the age distribution of customers for each product type.\n",
    "###  It shows median, quartiles, and potential outliers to identify if age varies significantly by product.\n"
   ]
  },
  {
   "cell_type": "code",
   "execution_count": 45,
   "id": "b958de12",
   "metadata": {},
   "outputs": [
    {
     "name": "stderr",
     "output_type": "stream",
     "text": [
      "C:\\Users\\Hemanth2512005\\AppData\\Local\\Temp\\ipykernel_24208\\291580872.py:4: FutureWarning: \n",
      "\n",
      "Passing `palette` without assigning `hue` is deprecated and will be removed in v0.14.0. Assign the `x` variable to `hue` and set `legend=False` for the same effect.\n",
      "\n",
      "  sns.boxplot(x='Product', y='Age', data=df, palette='Set2')\n"
     ]
    },
    {
     "data": {
      "image/png": "[encoded data removed]",
      "text/plain": [
       "<Figure size 800x500 with 1 Axes>"
      ]
     },
     "metadata": {},
     "output_type": "display_data"
    }
   ],
   "source": [
    "import seaborn as sns\n",
    "\n",
    "plt.figure(figsize=(8, 5))\n",
    "sns.boxplot(x='Product', y='Age', data=df, palette='Set2')\n",
    "plt.title('Age Distribution by Treadmill Product')\n",
    "plt.xlabel('Product')\n",
    "plt.ylabel('Age')\n",
    "plt.grid(True)\n",
    "plt.show()\n"
   ]
  },
  {
   "cell_type": "markdown",
   "id": "b3e790f8",
   "metadata": {},
   "source": [
    "# 🧮 Age Grouping and Product Preference Analysis\n",
    "### This step groups customers into defined age brackets using bins.\n",
    "### Then, it computes the percentage distribution of each treadmill product within those age groups.\n",
    "### This helps identify which product is preferred by which age group (e.g., younger vs. older users)."
   ]
  },
  {
   "cell_type": "code",
   "execution_count": 46,
   "id": "bd720a30",
   "metadata": {},
   "outputs": [
    {
     "data": {
      "text/html": [
       "<div>\n",
       "<style scoped>\n",
       "    .dataframe tbody tr th:only-of-type {\n",
       "        vertical-align: middle;\n",
       "    }\n",
       "\n",
       "    .dataframe tbody tr th {\n",
       "        vertical-align: top;\n",
       "    }\n",
       "\n",
       "    .dataframe thead th {\n",
       "        text-align: right;\n",
       "    }\n",
       "</style>\n",
       "<table border=\"1\" class=\"dataframe\">\n",
       "  <thead>\n",
       "    <tr style=\"text-align: right;\">\n",
       "      <th>Product</th>\n",
       "      <th>KP281</th>\n",
       "      <th>KP481</th>\n",
       "      <th>KP781</th>\n",
       "    </tr>\n",
       "    <tr>\n",
       "      <th>AgeGroup</th>\n",
       "      <th></th>\n",
       "      <th></th>\n",
       "      <th></th>\n",
       "    </tr>\n",
       "  </thead>\n",
       "  <tbody>\n",
       "    <tr>\n",
       "      <th>15-24</th>\n",
       "      <td>50.0</td>\n",
       "      <td>31.481481</td>\n",
       "      <td>18.518519</td>\n",
       "    </tr>\n",
       "    <tr>\n",
       "      <th>25-34</th>\n",
       "      <td>40.0</td>\n",
       "      <td>34.444444</td>\n",
       "      <td>25.555556</td>\n",
       "    </tr>\n",
       "    <tr>\n",
       "      <th>35-44</th>\n",
       "      <td>50.0</td>\n",
       "      <td>35.714286</td>\n",
       "      <td>14.285714</td>\n",
       "    </tr>\n",
       "    <tr>\n",
       "      <th>45-54</th>\n",
       "      <td>37.5</td>\n",
       "      <td>25.000000</td>\n",
       "      <td>37.500000</td>\n",
       "    </tr>\n",
       "  </tbody>\n",
       "</table>\n",
       "</div>"
      ],
      "text/plain": [
       "Product   KP281      KP481      KP781\n",
       "AgeGroup                             \n",
       "15-24      50.0  31.481481  18.518519\n",
       "25-34      40.0  34.444444  25.555556\n",
       "35-44      50.0  35.714286  14.285714\n",
       "45-54      37.5  25.000000  37.500000"
      ]
     },
     "execution_count": 46,
     "metadata": {},
     "output_type": "execute_result"
    }
   ],
   "source": [
    "bins = [15, 25, 35, 45, 55, 65]\n",
    "labels = ['15-24', '25-34', '35-44', '45-54', '55-64']\n",
    "\n",
    "df['AgeGroup'] = pd.cut(df['Age'], bins=bins, labels=labels, right=False)\n",
    "\n",
    "pd.crosstab(df['AgeGroup'], df['Product'], normalize='index') * 100\n"
   ]
  },
  {
   "cell_type": "markdown",
   "id": "e5e1f6f6",
   "metadata": {},
   "source": [
    "# Bar Plot: Treadmill Product Purchases by Gender\n",
    "### This grouped bar chart shows how many male and female customers purchased each treadmill product.\n",
    "### It helps identify if certain products are more popular with a particular gender."
   ]
  },
  {
   "cell_type": "code",
   "execution_count": 47,
   "id": "a602a768",
   "metadata": {},
   "outputs": [
    {
     "data": {
      "image/png": "[encoded data removed]",
      "text/plain": [
       "<Figure size 800x600 with 1 Axes>"
      ]
     },
     "metadata": {},
     "output_type": "display_data"
    }
   ],
   "source": [
    "plt.figure(figsize=(8, 6))\n",
    "sns.countplot(data=df, x='Product', hue='Gender', palette='pastel')\n",
    "\n",
    "plt.title('Treadmill Product Purchases by Gender')\n",
    "plt.xlabel('Product')\n",
    "plt.ylabel('Number of Purchases')\n",
    "plt.legend(title='Gender')\n",
    "plt.tight_layout()\n",
    "plt.show()"
   ]
  },
  {
   "cell_type": "markdown",
   "id": "10011ee6",
   "metadata": {},
   "source": [
    "# Box Plot: Education Level Distribution by Treadmill Product\n",
    "### This plot shows how customer education (in years) varies by treadmill product."
   ]
  },
  {
   "cell_type": "code",
   "execution_count": 48,
   "id": "90aa6549",
   "metadata": {},
   "outputs": [
    {
     "name": "stderr",
     "output_type": "stream",
     "text": [
      "C:\\Users\\Hemanth2512005\\AppData\\Local\\Temp\\ipykernel_24208\\2700283110.py:2: FutureWarning: \n",
      "\n",
      "Passing `palette` without assigning `hue` is deprecated and will be removed in v0.14.0. Assign the `x` variable to `hue` and set `legend=False` for the same effect.\n",
      "\n",
      "  sns.boxplot(x='Product', y='Education', data=df, palette='coolwarm')\n"
     ]
    },
    {
     "data": {
      "image/png": "[encoded data removed]",
      "text/plain": [
       "<Figure size 800x500 with 1 Axes>"
      ]
     },
     "metadata": {},
     "output_type": "display_data"
    }
   ],
   "source": [
    " \n",
    "plt.figure(figsize=(8, 5))\n",
    "sns.boxplot(x='Product', y='Education', data=df, palette='coolwarm')\n",
    "plt.title('Education Level Distribution by Product')\n",
    "plt.xlabel('Product')\n",
    "plt.ylabel('Years of Education')\n",
    "plt.grid(True)\n",
    "plt.tight_layout()\n",
    "plt.show()\n"
   ]
  },
  {
   "cell_type": "markdown",
   "id": "2111bf87",
   "metadata": {},
   "source": [
    "###  Violin Plot"
   ]
  },
  {
   "cell_type": "code",
   "execution_count": 49,
   "id": "e2ff338c",
   "metadata": {},
   "outputs": [
    {
     "name": "stderr",
     "output_type": "stream",
     "text": [
      "C:\\Users\\Hemanth2512005\\AppData\\Local\\Temp\\ipykernel_24208\\2116269768.py:1: FutureWarning: \n",
      "\n",
      "Passing `palette` without assigning `hue` is deprecated and will be removed in v0.14.0. Assign the `x` variable to `hue` and set `legend=False` for the same effect.\n",
      "\n",
      "  sns.violinplot(x='Product', y='Education', data=df, palette='muted')\n"
     ]
    },
    {
     "data": {
      "text/plain": [
       "<Axes: xlabel='Product', ylabel='Education'>"
      ]
     },
     "execution_count": 49,
     "metadata": {},
     "output_type": "execute_result"
    },
    {
     "data": {
      "image/png": "[encoded data removed]",
      "text/plain": [
       "<Figure size 640x480 with 1 Axes>"
      ]
     },
     "metadata": {},
     "output_type": "display_data"
    }
   ],
   "source": [
    "sns.violinplot(x='Product', y='Education', data=df, palette='muted')\n"
   ]
  },
  {
   "cell_type": "markdown",
   "id": "5efb8059",
   "metadata": {},
   "source": [
    "### 📊 Usage Frequency Distribution by Product"
   ]
  },
  {
   "cell_type": "code",
   "execution_count": 50,
   "id": "6cd89da7",
   "metadata": {},
   "outputs": [
    {
     "name": "stdout",
     "output_type": "stream",
     "text": [
      "📊 Usage Frequency by Product (Counts):\n",
      "\n",
      "Product  KP281  KP481  KP781  All\n",
      "Usage                            \n",
      "2           19     14      0   33\n",
      "3           37     31      1   69\n",
      "4           22     12     18   52\n",
      "5            2      3     12   17\n",
      "6            0      0      7    7\n",
      "7            0      0      2    2\n",
      "All         80     60     40  180\n",
      "\n",
      "📉 Usage Frequency by Product (Percentage %):\n",
      "\n",
      "Product  KP281  KP481  KP781\n",
      "Usage                       \n",
      "2         23.8   23.3    0.0\n",
      "3         46.2   51.7    2.5\n",
      "4         27.5   20.0   45.0\n",
      "5          2.5    5.0   30.0\n",
      "6          0.0    0.0   17.5\n",
      "7          0.0    0.0    5.0\n"
     ]
    },
    {
     "data": {
      "image/png": "[encoded data removed]",
      "text/plain": [
       "<Figure size 1000x600 with 1 Axes>"
      ]
     },
     "metadata": {},
     "output_type": "display_data"
    }
   ],
   "source": [
    " \n",
    "usage_table = pd.crosstab(df['Usage'], df['Product'], margins=True)\n",
    "\n",
    " \n",
    "usage_percent = pd.crosstab(df['Usage'], df['Product'], normalize='columns') * 100\n",
    "usage_percent = usage_percent.round(1)\n",
    "\n",
    "print(\"📊 Usage Frequency by Product (Counts):\\n\")\n",
    "print(usage_table)\n",
    "print(\"\\n📉 Usage Frequency by Product (Percentage %):\\n\")\n",
    "print(usage_percent)\n",
    " \n",
    "plt.figure(figsize=(10, 6))\n",
    "sns.countplot(x='Usage', hue='Product', data=df, palette='pastel')\n",
    "plt.title('Customer Weekly Usage Frequency by Product')\n",
    "plt.xlabel('Usage (Days per Week)')\n",
    "plt.ylabel('Number of Customers')\n",
    "plt.legend(title='Product')\n",
    "plt.tight_layout()\n",
    "plt.show()\n",
    " "
   ]
  },
  {
   "cell_type": "markdown",
   "id": "47542247",
   "metadata": {},
   "source": [
    "### 💪 Fitness Level Distribution by Product"
   ]
  },
  {
   "cell_type": "code",
   "execution_count": 51,
   "id": "91d57027",
   "metadata": {},
   "outputs": [
    {
     "name": "stdout",
     "output_type": "stream",
     "text": [
      "\n",
      "📊 Fitness Level by Product (Counts):\n",
      "\n",
      "Product  KP281  KP481  KP781  All\n",
      "Fitness                          \n",
      "1            1      1      0    2\n",
      "2           14     12      0   26\n",
      "3           54     39      4   97\n",
      "4            9      8      7   24\n",
      "5            2      0     29   31\n",
      "All         80     60     40  180\n",
      "\n",
      "📉 Fitness Level by Product (Percentage %):\n",
      "\n",
      "Product  KP281  KP481  KP781\n",
      "Fitness                     \n",
      "1          1.2    1.7    0.0\n",
      "2         17.5   20.0    0.0\n",
      "3         67.5   65.0   10.0\n",
      "4         11.2   13.3   17.5\n",
      "5          2.5    0.0   72.5\n"
     ]
    },
    {
     "data": {
      "image/png": "[encoded data removed]",
      "text/plain": [
       "<Figure size 1000x600 with 1 Axes>"
      ]
     },
     "metadata": {},
     "output_type": "display_data"
    }
   ],
   "source": [
    "# Count table\n",
    "fitness_table = pd.crosstab(df['Fitness'], df['Product'], margins=True)\n",
    "\n",
    "# Percentage table\n",
    "fitness_percent = pd.crosstab(df['Fitness'], df['Product'], normalize='columns') * 100\n",
    "fitness_percent = fitness_percent.round(1)\n",
    "\n",
    "print(\"\\n📊 Fitness Level by Product (Counts):\\n\")\n",
    "print(fitness_table)\n",
    "print(\"\\n📉 Fitness Level by Product (Percentage %):\\n\")\n",
    "print(fitness_percent)\n",
    "\n",
    "# Barplot: Fitness per Product\n",
    "plt.figure(figsize=(10, 6))\n",
    "sns.countplot(x='Fitness', hue='Product', data=df, palette='Set3')\n",
    "plt.title('Customer Fitness Level by Product')\n",
    "plt.xlabel('Fitness Level (1 = Poor, 5 = Excellent)')\n",
    "plt.ylabel('Number of Customers')\n",
    "plt.legend(title='Product')\n",
    "plt.tight_layout()\n",
    "plt.show()\n"
   ]
  },
  {
   "cell_type": "markdown",
   "id": "162bdccb",
   "metadata": {},
   "source": [
    "### 🏃‍♂️ Average Weekly Miles by Product"
   ]
  },
  {
   "cell_type": "code",
   "execution_count": 52,
   "id": "f0ef94ee",
   "metadata": {},
   "outputs": [
    {
     "name": "stdout",
     "output_type": "stream",
     "text": [
      "📊 Average Miles by Treadmill Product:\n",
      "\n",
      "  Product  Average_Miles\n",
      "0   KP281          82.79\n",
      "1   KP481          87.93\n",
      "2   KP781         166.90\n"
     ]
    },
    {
     "name": "stderr",
     "output_type": "stream",
     "text": [
      "C:\\Users\\Hemanth2512005\\AppData\\Local\\Temp\\ipykernel_24208\\2763702157.py:9: FutureWarning: \n",
      "\n",
      "Passing `palette` without assigning `hue` is deprecated and will be removed in v0.14.0. Assign the `x` variable to `hue` and set `legend=False` for the same effect.\n",
      "\n",
      "  sns.barplot(data=avg_miles, x='Product', y='Average_Miles', palette='Blues_d')\n"
     ]
    },
    {
     "data": {
      "image/png": "[encoded data removed]",
      "text/plain": [
       "<Figure size 800x500 with 1 Axes>"
      ]
     },
     "metadata": {},
     "output_type": "display_data"
    }
   ],
   "source": [
    " \n",
    "avg_miles = df.groupby('Product')['Miles'].mean().round(2).reset_index()\n",
    "avg_miles.columns = ['Product', 'Average_Miles']\n",
    "\n",
    " \n",
    "print(\"📊 Average Miles by Treadmill Product:\\n\")\n",
    "print(avg_miles)\n",
    " \n",
    "plt.figure(figsize=(8, 5))\n",
    "sns.barplot(data=avg_miles, x='Product', y='Average_Miles', palette='Blues_d')\n",
    "plt.title('Average Weekly Miles by Treadmill Product')\n",
    "plt.xlabel('Product')\n",
    "plt.ylabel('Average Miles per Week')\n",
    "plt.grid(axis='y', linestyle='--', alpha=0.7)\n",
    "plt.tight_layout()\n",
    "plt.show()"
   ]
  },
  {
   "cell_type": "markdown",
   "id": "80d2aedc",
   "metadata": {},
   "source": [
    "# Recommendations :\n"
   ]
  },
  {
   "cell_type": "markdown",
   "id": "c200887a",
   "metadata": {},
   "source": [
    "\n",
    "## 📌 Final Business Recommendations\n",
    "\n",
    "Based on the analysis of AeroFit treadmill customer data:\n",
    "\n",
    "1. **KP281 (Entry-level)** is most popular among:\n",
    "   - Younger customers\n",
    "   - Beginners with low fitness (1–3)\n",
    "   - Users planning 2–3 sessions per week\n",
    "   - Recommendation: Promote KP281 to college students and casual users through budget campaigns.\n",
    "\n",
    "2. **KP481 (Mid-level)** suits:\n",
    "   - Moderately active individuals\n",
    "   - Average fitness level (3–4)\n",
    "   - Moderate usage (3–5 times/week)\n",
    "   - Recommendation: Target working professionals who want a balance of price and performance.\n",
    "\n",
    "3. **KP781 (Premium-level)** attracts:\n",
    "   - Highly fit customers (fitness 4–5)\n",
    "   - High-income, heavy users (5–7 days/week, highest average miles)\n",
    "   - Recommendation: Promote KP781 as a premium brand to serious runners, possibly bundle with app features or premium content.\n",
    "\n"
   ]
  }
 ],
 "metadata": {
  "kernelspec": {
   "display_name": "Python 3",
   "language": "python",
   "name": "python3"
  },
  "language_info": {
   "codemirror_mode": {
    "name": "ipython",
    "version": 3
   },
   "file_extension": ".py",
   "mimetype": "text/x-python",
   "name": "python",
   "nbconvert_exporter": "python",
   "pygments_lexer": "ipython3",
   "version": "3.11.9"
  }
 },
 "nbformat": 4,
 "nbformat_minor": 5
}
